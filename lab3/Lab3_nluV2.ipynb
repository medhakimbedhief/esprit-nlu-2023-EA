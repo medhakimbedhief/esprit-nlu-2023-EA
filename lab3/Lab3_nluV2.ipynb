{
  "nbformat": 4,
  "nbformat_minor": 0,
  "metadata": {
    "colab": {
      "provenance": []
    },
    "kernelspec": {
      "name": "python3",
      "display_name": "Python 3"
    },
    "language_info": {
      "name": "python"
    }
  },
  "cells": [
    {
      "cell_type": "code",
      "source": [
        "!pip install transformers"
      ],
      "metadata": {
        "colab": {
          "base_uri": "https://localhost:8080/"
        },
        "id": "d0yP6SeRGQRL",
        "outputId": "f04a515f-61f6-4d39-d89a-933021b5e84b"
      },
      "execution_count": null,
      "outputs": [
        {
          "output_type": "stream",
          "name": "stdout",
          "text": [
            "Looking in indexes: https://pypi.org/simple, https://us-python.pkg.dev/colab-wheels/public/simple/\n",
            "Requirement already satisfied: transformers in /usr/local/lib/python3.9/dist-packages (4.28.1)\n",
            "Requirement already satisfied: numpy>=1.17 in /usr/local/lib/python3.9/dist-packages (from transformers) (1.22.4)\n",
            "Requirement already satisfied: regex!=2019.12.17 in /usr/local/lib/python3.9/dist-packages (from transformers) (2022.10.31)\n",
            "Requirement already satisfied: pyyaml>=5.1 in /usr/local/lib/python3.9/dist-packages (from transformers) (6.0)\n",
            "Requirement already satisfied: requests in /usr/local/lib/python3.9/dist-packages (from transformers) (2.27.1)\n",
            "Requirement already satisfied: huggingface-hub<1.0,>=0.11.0 in /usr/local/lib/python3.9/dist-packages (from transformers) (0.13.4)\n",
            "Requirement already satisfied: filelock in /usr/local/lib/python3.9/dist-packages (from transformers) (3.11.0)\n",
            "Requirement already satisfied: tokenizers!=0.11.3,<0.14,>=0.11.1 in /usr/local/lib/python3.9/dist-packages (from transformers) (0.13.3)\n",
            "Requirement already satisfied: tqdm>=4.27 in /usr/local/lib/python3.9/dist-packages (from transformers) (4.65.0)\n",
            "Requirement already satisfied: packaging>=20.0 in /usr/local/lib/python3.9/dist-packages (from transformers) (23.0)\n",
            "Requirement already satisfied: typing-extensions>=3.7.4.3 in /usr/local/lib/python3.9/dist-packages (from huggingface-hub<1.0,>=0.11.0->transformers) (4.5.0)\n",
            "Requirement already satisfied: idna<4,>=2.5 in /usr/local/lib/python3.9/dist-packages (from requests->transformers) (3.4)\n",
            "Requirement already satisfied: charset-normalizer~=2.0.0 in /usr/local/lib/python3.9/dist-packages (from requests->transformers) (2.0.12)\n",
            "Requirement already satisfied: certifi>=2017.4.17 in /usr/local/lib/python3.9/dist-packages (from requests->transformers) (2022.12.7)\n",
            "Requirement already satisfied: urllib3<1.27,>=1.21.1 in /usr/local/lib/python3.9/dist-packages (from requests->transformers) (1.26.15)\n"
          ]
        }
      ]
    },
    {
      "cell_type": "markdown",
      "source": [
        "## Librairies Import and Data Loading\n",
        "\n"
      ],
      "metadata": {
        "id": "peE69eG9hVa3"
      }
    },
    {
      "cell_type": "code",
      "source": [
        "import pandas as pd\n",
        "from sklearn.model_selection import train_test_split\n",
        "import torch\n",
        "from transformers import BertForSequenceClassification, BertTokenizer\n",
        "from tqdm import tqdm\n",
        "import sklearn\n",
        "import matplotlib.pyplot as plt\n",
        "\n",
        "data = pd.read_csv('train.csv')\n",
        "# Split the data into a prompt tuning set and an evaluation benchmark set\n",
        "prompt_tuning_data, eval_data = train_test_split(data, test_size=0.9, random_state=42)"
      ],
      "metadata": {
        "id": "lES-JYGpevb3"
      },
      "execution_count": null,
      "outputs": []
    },
    {
      "cell_type": "markdown",
      "source": [
        "## Model, Tokenizer and Prompt Techniques \n",
        "**Add Prefix:** One simple technique is to add a fixed prefix to each input text. For example,adding the prefix \"Classify this tweet as real disaster or not: \" to each tweet text before feeding it into the language model.\n",
        "\n",
        "**Add Location:** This technique appends the location of the tweet (if available) to the text of the tweet, separated by a space.For example, you could add the location \"New York: \" to a tweet that was sent from New York.\n",
        "\n",
        "**Add Keyword:** This technique appends the keyword of the tweet (if available) to the text of the tweet, separated by a space. For example, if a tweet is tagged with the keyword \"emergency\", you could add the prefix \"Emergency tweet: \" to the tweet text."
      ],
      "metadata": {
        "id": "e1FpL6E1hkCD"
      }
    },
    {
      "cell_type": "code",
      "source": [
        "# Define the BERT model and tokenizer\n",
        "model = BertForSequenceClassification.from_pretrained('bert-base-uncased')\n",
        "tokenizer = BertTokenizer.from_pretrained('bert-base-uncased')\n",
        "\n",
        "# Define a list of prompt engineering techniques to test\n",
        "prompt_techniques = ['add_prefix', 'add_location', 'add_keyword']"
      ],
      "metadata": {
        "colab": {
          "base_uri": "https://localhost:8080/"
        },
        "id": "r1dPET8MhSWh",
        "outputId": "b456f050-d63c-4019-a250-60e86a9bab3e"
      },
      "execution_count": null,
      "outputs": [
        {
          "output_type": "stream",
          "name": "stderr",
          "text": [
            "Some weights of the model checkpoint at bert-base-uncased were not used when initializing BertForSequenceClassification: ['cls.predictions.transform.LayerNorm.weight', 'cls.predictions.transform.dense.weight', 'cls.seq_relationship.weight', 'cls.predictions.transform.dense.bias', 'cls.predictions.decoder.weight', 'cls.predictions.transform.LayerNorm.bias', 'cls.predictions.bias', 'cls.seq_relationship.bias']\n",
            "- This IS expected if you are initializing BertForSequenceClassification from the checkpoint of a model trained on another task or with another architecture (e.g. initializing a BertForSequenceClassification model from a BertForPreTraining model).\n",
            "- This IS NOT expected if you are initializing BertForSequenceClassification from the checkpoint of a model that you expect to be exactly identical (initializing a BertForSequenceClassification model from a BertForSequenceClassification model).\n",
            "Some weights of BertForSequenceClassification were not initialized from the model checkpoint at bert-base-uncased and are newly initialized: ['classifier.weight', 'classifier.bias']\n",
            "You should probably TRAIN this model on a down-stream task to be able to use it for predictions and inference.\n"
          ]
        }
      ]
    },
    {
      "cell_type": "code",
      "source": [
        "# Define a function to generate prompts using the specified technique\n",
        "def generate_prompt(row, technique):\n",
        "    prompt = \"\"\n",
        "    if technique == 'add_prefix':\n",
        "        prompt = \"Is this tweet about a real disaster? \" + row['text']\n",
        "    elif technique == 'add_location':\n",
        "        prompt =  str(row['location']) + \" \" + row['text']\n",
        "    elif technique == 'add_keyword':\n",
        "        prompt = str(row['keyword']) + \" \" + row['text']\n",
        "    return prompt"
      ],
      "metadata": {
        "id": "mu4aHijoe7Rk"
      },
      "execution_count": null,
      "outputs": []
    },
    {
      "cell_type": "markdown",
      "source": [
        "## Model Evaluation"
      ],
      "metadata": {
        "id": "aK_90Fa6lnwa"
      }
    },
    {
      "cell_type": "code",
      "source": [
        "# Define a function to evaluate the model's performance on a given dataset\n",
        "def evaluate(model, tokenizer, data):\n",
        "    model.eval()\n",
        "    with torch.no_grad():\n",
        "        inputs = tokenizer(data['text'].tolist(), padding=True, truncation=True, max_length=128, return_tensors='pt')\n",
        "        labels = torch.tensor(data['target'].tolist())\n",
        "        outputs = model(inputs['input_ids'], attention_mask=inputs['attention_mask'], labels=labels)\n",
        "        logits = outputs.logits\n",
        "        predictions = torch.argmax(logits, dim=1).tolist()\n",
        "        f1_score = sklearn.metrics.f1_score(data['target'].tolist(), predictions)\n",
        "        return f1_score"
      ],
      "metadata": {
        "id": "nHhaUHApfOF5"
      },
      "execution_count": null,
      "outputs": []
    },
    {
      "cell_type": "code",
      "source": [
        "# Evaluate the model's performance without prompt engineering\n",
        "print(\"Evaluating the model's performance without prompt engineering\")\n",
        "f1_score_no_prompt = evaluate(model, tokenizer, eval_data)\n",
        "print(\"F1-score without prompt engineering:\", f1_score_no_prompt)\n"
      ],
      "metadata": {
        "colab": {
          "base_uri": "https://localhost:8080/"
        },
        "id": "GVfcG546fRkM",
        "outputId": "f60503a2-0397-42b8-b801-597c067eca59"
      },
      "execution_count": null,
      "outputs": [
        {
          "output_type": "stream",
          "name": "stdout",
          "text": [
            "Evaluating the model's performance without prompt engineering\n"
          ]
        }
      ]
    },
    {
      "cell_type": "code",
      "source": [
        "# Test each prompt engineering technique on the prompt tuning set and select the best one\n",
        "best_technique = None\n",
        "best_f1_score = 0\n",
        "f1_scores = []\n",
        "for technique in prompt_techniques:\n",
        "    print(\"Testing prompt technique:\", technique)\n",
        "    prompt_tuning_data['prompt'] = prompt_tuning_data.apply(lambda row: generate_prompt(row, technique), axis=1)\n",
        "    prompt_tuning_inputs = tokenizer(prompt_tuning_data['prompt'].tolist(), padding=True, truncation=True, max_length=128, return_tensors='pt')\n",
        "    prompt_tuning_labels = torch.tensor(prompt_tuning_data['target'].tolist())\n",
        "    optimizer = torch.optim.Adam(model.parameters(), lr=1e-5)\n",
        "    for epoch in range(3):\n",
        "        model.train()\n",
        "        for i in tqdm(range(len(prompt_tuning_inputs['input_ids']) // 32)):\n",
        "            batch_inputs = prompt_tuning_inputs['input_ids'][i*32:(i+1)*32]\n",
        "            batch_attention_mask = prompt_tuning_inputs['attention_mask'][i*32:(i+1)*32]\n",
        "            batch_labels = prompt_tuning_labels[i*32:(i+1)*32]\n",
        "            optimizer.zero_grad()\n",
        "            outputs = model(batch_inputs, attention_mask=batch_attention_mask, labels=batch_labels)\n",
        "            loss = outputs.loss\n",
        "            loss.backward()\n",
        "            optimizer.step()\n",
        "    f1_score = evaluate(model, tokenizer, prompt_tuning_data)\n",
        "    f1_scores.append(f1_score)\n",
        "    print(\"F1-score for prompt technique\", technique, \":\", f1_score)\n",
        "\n",
        "    if f1_score > best_f1_score:\n",
        "        best_f1_score = f1_score\n",
        "        best_technique = technique\n",
        "        torch.save(model.state_dict(), f\"best_model_{best_technique}.pt\")   # saving the best model \n",
        "\n",
        "# Print the best prompt engineering technique and its F1-score\n",
        "print(\"Best prompt engineering technique:\", best_technique)\n",
        "print(\"F1-score:\", best_f1_score)              "
      ],
      "metadata": {
        "colab": {
          "base_uri": "https://localhost:8080/"
        },
        "id": "CPFdRtcqfVIM",
        "outputId": "ab572111-b675-40e4-8617-50ad0f339f3a"
      },
      "execution_count": null,
      "outputs": [
        {
          "metadata": {
            "tags": null
          },
          "name": "stdout",
          "output_type": "stream",
          "text": [
            "Testing prompt technique: add_prefix\n"
          ]
        },
        {
          "metadata": {
            "tags": null
          },
          "name": "stderr",
          "output_type": "stream",
          "text": [
            "100%|██████████| 23/23 [11:48<00:00, 30.82s/it]\n",
            "100%|██████████| 23/23 [11:45<00:00, 30.66s/it]\n",
            "100%|██████████| 23/23 [11:47<00:00, 30.75s/it]\n"
          ]
        },
        {
          "metadata": {
            "tags": null
          },
          "name": "stdout",
          "output_type": "stream",
          "text": [
            "F1-score for prompt technique add_prefix : 0.9162861491628616\n",
            "Testing prompt technique: add_location\n"
          ]
        },
        {
          "metadata": {
            "tags": null
          },
          "name": "stderr",
          "output_type": "stream",
          "text": [
            "100%|██████████| 23/23 [11:30<00:00, 30.04s/it]\n",
            "100%|██████████| 23/23 [11:32<00:00, 30.11s/it]\n",
            "100%|██████████| 23/23 [11:41<00:00, 30.49s/it]\n"
          ]
        },
        {
          "metadata": {
            "tags": null
          },
          "name": "stdout",
          "output_type": "stream",
          "text": [
            "F1-score for prompt technique add_location : 0.9626307922272047\n",
            "Testing prompt technique: add_keyword\n"
          ]
        },
        {
          "metadata": {
            "tags": null
          },
          "name": "stderr",
          "output_type": "stream",
          "text": [
            "100%|██████████| 23/23 [10:50<00:00, 28.28s/it]\n",
            "100%|██████████| 23/23 [10:38<00:00, 27.77s/it]\n",
            "100%|██████████| 23/23 [10:41<00:00, 27.87s/it]\n"
          ]
        },
        {
          "output_type": "stream",
          "name": "stdout",
          "text": [
            "F1-score for prompt technique add_keyword : 0.9825581395348838\n",
            "Best prompt engineering technique: add_keyword\n",
            "F1-score: 0.9825581395348838\n"
          ]
        }
      ]
    },
    {
      "cell_type": "markdown",
      "source": [
        "## Visualisation"
      ],
      "metadata": {
        "id": "xktyBAncl3Sg"
      }
    },
    {
      "cell_type": "code",
      "source": [
        "# Visualize the F1-score for each prompt technique\n",
        "plt.bar(prompt_techniques,f1_scores)\n",
        "plt.title(\"F1-score vs. Prompt Technique\")\n",
        "plt.xlabel(\"Prompt Technique\")\n",
        "plt.ylabel(\"F1-score\")\n",
        "plt.xticks(range(len(prompt_techniques)), prompt_techniques, rotation=45)\n",
        "plt.show()        "
      ],
      "metadata": {
        "colab": {
          "base_uri": "https://localhost:8080/",
          "height": 533
        },
        "id": "lVzewLsBjGYd",
        "outputId": "68beebb9-dd45-41eb-8711-fbf936ab3d77"
      },
      "execution_count": null,
      "outputs": [
        {
          "output_type": "display_data",
          "data": {
            "text/plain": [
              "<Figure size 640x480 with 1 Axes>"
            ],
            "image/png": "[encoded data removed]"
          },
          "metadata": {}
        }
      ]
    }
  ]
}