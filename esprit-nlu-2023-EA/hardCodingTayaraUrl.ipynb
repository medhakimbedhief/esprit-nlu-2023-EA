{
  "nbformat": 4,
  "nbformat_minor": 0,
  "metadata": {
    "colab": {
      "provenance": []
    },
    "kernelspec": {
      "name": "python3",
      "display_name": "Python 3"
    },
    "language_info": {
      "name": "python"
    }
  },
  "cells": [
    {
      "cell_type": "code",
      "execution_count": null,
      "metadata": {
        "id": "2f0aShuRE5VS"
      },
      "outputs": [],
      "source": [
        "import requests\n",
        "from bs4 import BeautifulSoup"
      ]
    },
    {
      "cell_type": "code",
      "source": [
        "prompt_template = \"Find Telephones options Tunis in tunis with a size of 24 and brand Dell.\"\n",
        "start_index = words.index(\"Find\") + 1\n",
        "end_index = words.index(\"options\")\n",
        "entity = words[start_index:end_index]\n",
        "start_index = words.index(\"Find\") + 1\n",
        "end_index = words.index(\"options\")\n",
        "entity = words[start_index:end_index]\n",
        "# Extract region\n",
        "start_index = words.index(\"Tunis\") + 1\n",
        "end_index = words.index(\"in\")\n",
        "region = words[start_index:end_index]\n",
        "\n",
        "# Extract city\n",
        "start_index = words.index(\"in\") + 1\n",
        "end_index = words.index(\"with\")\n",
        "city = words[start_index:end_index]\n",
        "\n",
        "# Extract size\n",
        "start_index = words.index(\"size\") + 3\n",
        "size = words[start_index]\n",
        "\n",
        "# Extract brand\n",
        "start_index = words.index(\"brand\") + 1\n",
        "brand = words[start_index]\n"
      ],
      "metadata": {
        "id": "nb0uE5xkqjxi"
      },
      "execution_count": null,
      "outputs": []
    },
    {
      "cell_type": "code",
      "source": [
        "words = sentence.split()"
      ],
      "metadata": {
        "id": "yZDlNbT3rQrH"
      },
      "execution_count": null,
      "outputs": []
    },
    {
      "cell_type": "markdown",
      "source": [
        "https://www.tayara.tn/ads/c/Informatique%20et%20Multimedias/T%C3%A9l%C3%A9phones/l/Tunis/Tunis/k/Dell%2024/"
      ],
      "metadata": {
        "id": "O_4TWxeAqi8a"
      }
    },
    {
      "cell_type": "code",
      "source": [
        "def generate_api_url(ucategorie='', uscategorie='', uville='', udelegation='', uetat='', userminprice='', usermaxprice='',usearch=''):\n",
        "    base_url = 'https://www.tayara.tn/ads{categorie}{souscategorie}{ville}{delegation}{etat}{search}{prix}'\n",
        "    categorie = '/c/' + ucategorie if ucategorie else ''\n",
        "    search = '/k/' + usearch if usearch else ''\n",
        "    souscategorie = '/' + uscategorie if uscategorie else ''\n",
        "    ville = '/l/' + uville if uville else ''\n",
        "    delegation = '/' + udelegation if udelegation else ''\n",
        "    etat = '/t/' + uetat if uetat else ''\n",
        "    \n",
        "    if userminprice and usermaxprice:\n",
        "        prix = '/?minPrice=' + userminprice + '&maxPrice=' + usermaxprice\n",
        "    elif userminprice:\n",
        "        prix = '/?minPrice=' + userminprice\n",
        "    elif usermaxprice:\n",
        "        prix = '/?maxPrice=' + usermaxprice\n",
        "    else:\n",
        "        prix = ''\n",
        "\n",
        "    url = base_url.format(categorie=categorie, souscategorie=souscategorie, ville=ville,\n",
        "                          delegation=delegation, etat=etat, prix=prix , search = search)\n",
        "\n",
        "    return url"
      ],
      "metadata": {
        "id": "0F5uQerVdeuY"
      },
      "execution_count": null,
      "outputs": []
    },
    {
      "cell_type": "code",
      "source": [
        "#when calling generate url delegation names and categories should be exactly like the website ('ariana' for eg won't work 'Ariana' will work)(first letter uppercase)\n",
        "url = generate_api_url(usearch='kia rio 2015') #example with only putting search (no city no price range)\n",
        "url = url.replace(\" \", \"%20\")\n",
        "url"
      ],
      "metadata": {
        "colab": {
          "base_uri": "https://localhost:8080/",
          "height": 35
        },
        "id": "fh5-WbDzeA8D",
        "outputId": "b2f4d19c-1f18-45f6-d940-1bb0ac7b8ca2"
      },
      "execution_count": null,
      "outputs": [
        {
          "output_type": "execute_result",
          "data": {
            "text/plain": [
              "'https://www.tayara.tn/ads/k/kia%20rio%202015'"
            ],
            "application/vnd.google.colaboratory.intrinsic+json": {
              "type": "string"
            }
          },
          "metadata": {},
          "execution_count": 40
        }
      ]
    },
    {
      "cell_type": "code",
      "source": [
        "response = requests.get(url)"
      ],
      "metadata": {
        "id": "PTfFu0d5efVO"
      },
      "execution_count": null,
      "outputs": []
    },
    {
      "cell_type": "code",
      "source": [
        "#Printing first 10 articles from search results\n",
        "if response.status_code == 200:\n",
        "    html_content = response.text\n",
        "    soup = BeautifulSoup(html_content, 'html.parser')\n",
        "    articles = soup.find_all('article')\n",
        "    if len(articles) > 0:\n",
        "      for article in articles[:10]:\n",
        "          title = article.find('h2', class_='card-title').text.strip()\n",
        "          price = article.find('data')['value']\n",
        "           #location = article.find('span', class_='text-3xs').text.strip()\n",
        "          image_url = article.find('img')['src']\n",
        "          item_url = article.find('a')['href']\n",
        "          print('Title:', title)\n",
        "          print('Price:', price)\n",
        "          print('Item URL: https://www.tayara.tn'+item_url)\n",
        "          print('-------------')\n",
        "    else : #articles list empty\n",
        "          print('No articles found with search filter')\n",
        "\n",
        "else:\n",
        "    print('Failed to retrieve the HTML content. Status code:', response.status_code)"
      ],
      "metadata": {
        "id": "3Zeay7QgFBEm",
        "colab": {
          "base_uri": "https://localhost:8080/"
        },
        "outputId": "a4395be0-e126-46fd-9f76-441da3b8209e"
      },
      "execution_count": null,
      "outputs": [
        {
          "output_type": "stream",
          "name": "stdout",
          "text": [
            "Title: Poste Kia Rio\n",
            "Price: 500\n",
            "Item URL: https://www.tayara.tn/item/Poste_Kia_Rio_645be56eff05d77d365c04fd/\n",
            "-------------\n",
            "Title: Kia rio\n",
            "Price: 32200\n",
            "Item URL: https://www.tayara.tn/item/Kia_rio_6458e781ff05d77d365bce1c/\n",
            "-------------\n",
            "Title: Kia Rio\n",
            "Price: 34000\n",
            "Item URL: https://www.tayara.tn/item/Kia_Rio_6450d57da4cb3b2e7a3f70f6/\n",
            "-------------\n",
            "Title: Kia rio\n",
            "Price: 36200\n",
            "Item URL: https://www.tayara.tn/item/Kia_rio_644a971ba4cb3b2e7a3f1b77/\n",
            "-------------\n",
            "Title: Vente Kia Rio\n",
            "Price: 41000\n",
            "Item URL: https://www.tayara.tn/item/Vente_Kia_Rio_6439031bff05d77d365a12b6/\n",
            "-------------\n"
          ]
        }
      ]
    }
  ]
}